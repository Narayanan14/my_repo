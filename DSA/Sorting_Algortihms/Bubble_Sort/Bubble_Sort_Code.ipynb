{
 "cells": [
  {
   "cell_type": "markdown",
   "id": "186c0d23",
   "metadata": {},
   "source": [
    "<h1>Bubble Sort</h1>"
   ]
  },
  {
   "cell_type": "markdown",
   "id": "8c22b67d",
   "metadata": {},
   "source": [
    "<b>In Bubble sort, each element is compared with its adjacent element. Incase of ascending order if the first element is greater than the second one, then the positions of the elements are interchanged, otherwise it is not changed.</b>\n",
    "\n",
    "<b>Then next element is compared with its adjacent element and the same process is repeated for all the elements in the array until we get a sorted array.</b>"
   ]
  },
  {
   "cell_type": "markdown",
   "id": "30c69ceb",
   "metadata": {},
   "source": [
    "For better understanding refer the below images, which illustrates the algorithm of Bubble Sort."
   ]
  },
  {
   "cell_type": "markdown",
   "id": "e4c89d81",
   "metadata": {},
   "source": [
    "<h2>Code</h2>"
   ]
  },
  {
   "cell_type": "code",
   "execution_count": 2,
   "id": "f044054a",
   "metadata": {},
   "outputs": [],
   "source": [
    "def Bubble_Sort(arr,detailed_steps=0):\n",
    "    for i in range(len(arr)-1):\n",
    "        for j in range(len(arr)-1-i):\n",
    "            if arr[j]>arr[j+1]:\n",
    "                temp=arr[j]\n",
    "                arr[j]=arr[j+1]\n",
    "                arr[j+1]=temp\n",
    "            if detailed_steps: #To check the array after every iteration \n",
    "                print(\"\\033[1m\" + f'When {i=} and {j=}\\n{arr=}\\n')\n",
    "    print(\"\\033[1m\" + f'The final sorted Array is {arr=}') #\"\\033[1m\" to print in bold"
   ]
  },
  {
   "cell_type": "code",
   "execution_count": 3,
   "id": "d31ebc49",
   "metadata": {},
   "outputs": [],
   "source": [
    "arr=[6,5,3,1,8,7,2,4]"
   ]
  },
  {
   "cell_type": "code",
   "execution_count": 5,
   "id": "55679882",
   "metadata": {
    "scrolled": false
   },
   "outputs": [
    {
     "name": "stdout",
     "output_type": "stream",
     "text": [
      "\u001b[1mThe final sorted Array is arr=[1, 2, 3, 4, 5, 6, 7, 8]\n"
     ]
    }
   ],
   "source": [
    "Bubble_Sort(arr)"
   ]
  },
  {
   "cell_type": "code",
   "execution_count": 4,
   "id": "62f07a35",
   "metadata": {},
   "outputs": [
    {
     "name": "stdout",
     "output_type": "stream",
     "text": [
      "\u001b[1mOutput after each iteration\n",
      "\n",
      "\u001b[1mWhen i=0 and j=0\n",
      "arr=[5, 6, 3, 1, 8, 7, 2, 4]\n",
      "\n",
      "\u001b[1mWhen i=0 and j=1\n",
      "arr=[5, 3, 6, 1, 8, 7, 2, 4]\n",
      "\n",
      "\u001b[1mWhen i=0 and j=2\n",
      "arr=[5, 3, 1, 6, 8, 7, 2, 4]\n",
      "\n",
      "\u001b[1mWhen i=0 and j=3\n",
      "arr=[5, 3, 1, 6, 8, 7, 2, 4]\n",
      "\n",
      "\u001b[1mWhen i=0 and j=4\n",
      "arr=[5, 3, 1, 6, 7, 8, 2, 4]\n",
      "\n",
      "\u001b[1mWhen i=0 and j=5\n",
      "arr=[5, 3, 1, 6, 7, 2, 8, 4]\n",
      "\n",
      "\u001b[1mWhen i=0 and j=6\n",
      "arr=[5, 3, 1, 6, 7, 2, 4, 8]\n",
      "\n",
      "\u001b[1mWhen i=1 and j=0\n",
      "arr=[3, 5, 1, 6, 7, 2, 4, 8]\n",
      "\n",
      "\u001b[1mWhen i=1 and j=1\n",
      "arr=[3, 1, 5, 6, 7, 2, 4, 8]\n",
      "\n",
      "\u001b[1mWhen i=1 and j=2\n",
      "arr=[3, 1, 5, 6, 7, 2, 4, 8]\n",
      "\n",
      "\u001b[1mWhen i=1 and j=3\n",
      "arr=[3, 1, 5, 6, 7, 2, 4, 8]\n",
      "\n",
      "\u001b[1mWhen i=1 and j=4\n",
      "arr=[3, 1, 5, 6, 2, 7, 4, 8]\n",
      "\n",
      "\u001b[1mWhen i=1 and j=5\n",
      "arr=[3, 1, 5, 6, 2, 4, 7, 8]\n",
      "\n",
      "\u001b[1mWhen i=2 and j=0\n",
      "arr=[1, 3, 5, 6, 2, 4, 7, 8]\n",
      "\n",
      "\u001b[1mWhen i=2 and j=1\n",
      "arr=[1, 3, 5, 6, 2, 4, 7, 8]\n",
      "\n",
      "\u001b[1mWhen i=2 and j=2\n",
      "arr=[1, 3, 5, 6, 2, 4, 7, 8]\n",
      "\n",
      "\u001b[1mWhen i=2 and j=3\n",
      "arr=[1, 3, 5, 2, 6, 4, 7, 8]\n",
      "\n",
      "\u001b[1mWhen i=2 and j=4\n",
      "arr=[1, 3, 5, 2, 4, 6, 7, 8]\n",
      "\n",
      "\u001b[1mWhen i=3 and j=0\n",
      "arr=[1, 3, 5, 2, 4, 6, 7, 8]\n",
      "\n",
      "\u001b[1mWhen i=3 and j=1\n",
      "arr=[1, 3, 5, 2, 4, 6, 7, 8]\n",
      "\n",
      "\u001b[1mWhen i=3 and j=2\n",
      "arr=[1, 3, 2, 5, 4, 6, 7, 8]\n",
      "\n",
      "\u001b[1mWhen i=3 and j=3\n",
      "arr=[1, 3, 2, 4, 5, 6, 7, 8]\n",
      "\n",
      "\u001b[1mWhen i=4 and j=0\n",
      "arr=[1, 3, 2, 4, 5, 6, 7, 8]\n",
      "\n",
      "\u001b[1mWhen i=4 and j=1\n",
      "arr=[1, 2, 3, 4, 5, 6, 7, 8]\n",
      "\n",
      "\u001b[1mWhen i=4 and j=2\n",
      "arr=[1, 2, 3, 4, 5, 6, 7, 8]\n",
      "\n",
      "\u001b[1mWhen i=5 and j=0\n",
      "arr=[1, 2, 3, 4, 5, 6, 7, 8]\n",
      "\n",
      "\u001b[1mWhen i=5 and j=1\n",
      "arr=[1, 2, 3, 4, 5, 6, 7, 8]\n",
      "\n",
      "\u001b[1mWhen i=6 and j=0\n",
      "arr=[1, 2, 3, 4, 5, 6, 7, 8]\n",
      "\n",
      "\u001b[1mThe final sorted Array is arr=[1, 2, 3, 4, 5, 6, 7, 8]\n"
     ]
    }
   ],
   "source": [
    "print(\"\\033[1m\" + 'Output after each iteration\\n')\n",
    "Bubble_Sort(arr,1) #Passing 1 to get the output after every step"
   ]
  },
  {
   "cell_type": "markdown",
   "id": "18e9cf60",
   "metadata": {},
   "source": [
    "<b>Time complexity : Since nested for loops are involved, the average time complexity for Bubble Sort is O(N^2).</b><br>"
   ]
  },
  {
   "cell_type": "markdown",
   "id": "e3d7b9e3",
   "metadata": {},
   "source": [
    "<h2>Advantage</h2>\n",
    "<ul>\n",
    "    <li>When data set is small, bubble sort is efficient</li>\n",
    "    <li>Easy to implement</li>\n",
    "</ul>"
   ]
  },
  {
   "cell_type": "markdown",
   "id": "110a170f",
   "metadata": {},
   "source": [
    "<h2>Disadvantage</h2>\n",
    "<ul>\n",
    "    <li>It is time-inefficient as it is having O(N2) time complexity.</li>\n",
    "    <li>For large data set it is not very efficient as time grows exponentially.</li>\n",
    "</ul>"
   ]
  }
 ],
 "metadata": {
  "kernelspec": {
   "display_name": "Python 3 (ipykernel)",
   "language": "python",
   "name": "python3"
  },
  "language_info": {
   "codemirror_mode": {
    "name": "ipython",
    "version": 3
   },
   "file_extension": ".py",
   "mimetype": "text/x-python",
   "name": "python",
   "nbconvert_exporter": "python",
   "pygments_lexer": "ipython3",
   "version": "3.9.13"
  }
 },
 "nbformat": 4,
 "nbformat_minor": 5
}
